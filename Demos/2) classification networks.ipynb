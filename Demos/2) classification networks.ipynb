{
  "nbformat": 4,
  "nbformat_minor": 0,
  "metadata": {
    "colab": {
      "provenance": []
    },
    "kernelspec": {
      "name": "python3",
      "display_name": "Python 3"
    },
    "language_info": {
      "name": "python"
    }
  },
  "cells": [
    {
      "cell_type": "markdown",
      "source": [
        "# Demo of classification networks\n",
        "In this demo, we will develop simple classification network. We will also explore how to use existing network using transfer learning."
      ],
      "metadata": {
        "id": "DEaNR_KD4IBo"
      }
    },
    {
      "cell_type": "markdown",
      "source": [
        "## Classification\n",
        "Classification is predicting the class of the input image."
      ],
      "metadata": {
        "id": "0tVorEzK44n7"
      }
    },
    {
      "cell_type": "markdown",
      "source": [
        "# Importing needed libs"
      ],
      "metadata": {
        "id": "4_9SOaN48bWU"
      }
    },
    {
      "cell_type": "code",
      "source": [
        "import tensorflow as tf\n",
        "\n",
        "from tensorflow import keras\n",
        "\n",
        "import numpy as np\n",
        "\n",
        "from sklearn.metrics import *\n",
        "\n",
        "import matplotlib.pyplot as plt\n",
        "\n",
        "#from tensorflow_datasets import datasets"
      ],
      "metadata": {
        "id": "kM1VQjWL5nju"
      },
      "execution_count": 1,
      "outputs": []
    },
    {
      "cell_type": "markdown",
      "source": [
        "## Data"
      ],
      "metadata": {
        "id": "KkVmT6BV8To7"
      }
    },
    {
      "cell_type": "code",
      "source": [
        "keras.datasets.mnist.load_data(path='mnist.npz')"
      ],
      "metadata": {
        "colab": {
          "base_uri": "https://localhost:8080/"
        },
        "id": "KPFf-qqw7Cf8",
        "outputId": "10a1d825-1a19-4e5b-c3a1-c760bff3c297"
      },
      "execution_count": 2,
      "outputs": [
        {
          "output_type": "execute_result",
          "data": {
            "text/plain": [
              "((array([[[0, 0, 0, ..., 0, 0, 0],\n",
              "          [0, 0, 0, ..., 0, 0, 0],\n",
              "          [0, 0, 0, ..., 0, 0, 0],\n",
              "          ...,\n",
              "          [0, 0, 0, ..., 0, 0, 0],\n",
              "          [0, 0, 0, ..., 0, 0, 0],\n",
              "          [0, 0, 0, ..., 0, 0, 0]],\n",
              "  \n",
              "         [[0, 0, 0, ..., 0, 0, 0],\n",
              "          [0, 0, 0, ..., 0, 0, 0],\n",
              "          [0, 0, 0, ..., 0, 0, 0],\n",
              "          ...,\n",
              "          [0, 0, 0, ..., 0, 0, 0],\n",
              "          [0, 0, 0, ..., 0, 0, 0],\n",
              "          [0, 0, 0, ..., 0, 0, 0]],\n",
              "  \n",
              "         [[0, 0, 0, ..., 0, 0, 0],\n",
              "          [0, 0, 0, ..., 0, 0, 0],\n",
              "          [0, 0, 0, ..., 0, 0, 0],\n",
              "          ...,\n",
              "          [0, 0, 0, ..., 0, 0, 0],\n",
              "          [0, 0, 0, ..., 0, 0, 0],\n",
              "          [0, 0, 0, ..., 0, 0, 0]],\n",
              "  \n",
              "         ...,\n",
              "  \n",
              "         [[0, 0, 0, ..., 0, 0, 0],\n",
              "          [0, 0, 0, ..., 0, 0, 0],\n",
              "          [0, 0, 0, ..., 0, 0, 0],\n",
              "          ...,\n",
              "          [0, 0, 0, ..., 0, 0, 0],\n",
              "          [0, 0, 0, ..., 0, 0, 0],\n",
              "          [0, 0, 0, ..., 0, 0, 0]],\n",
              "  \n",
              "         [[0, 0, 0, ..., 0, 0, 0],\n",
              "          [0, 0, 0, ..., 0, 0, 0],\n",
              "          [0, 0, 0, ..., 0, 0, 0],\n",
              "          ...,\n",
              "          [0, 0, 0, ..., 0, 0, 0],\n",
              "          [0, 0, 0, ..., 0, 0, 0],\n",
              "          [0, 0, 0, ..., 0, 0, 0]],\n",
              "  \n",
              "         [[0, 0, 0, ..., 0, 0, 0],\n",
              "          [0, 0, 0, ..., 0, 0, 0],\n",
              "          [0, 0, 0, ..., 0, 0, 0],\n",
              "          ...,\n",
              "          [0, 0, 0, ..., 0, 0, 0],\n",
              "          [0, 0, 0, ..., 0, 0, 0],\n",
              "          [0, 0, 0, ..., 0, 0, 0]]], dtype=uint8),\n",
              "  array([5, 0, 4, ..., 5, 6, 8], dtype=uint8)),\n",
              " (array([[[0, 0, 0, ..., 0, 0, 0],\n",
              "          [0, 0, 0, ..., 0, 0, 0],\n",
              "          [0, 0, 0, ..., 0, 0, 0],\n",
              "          ...,\n",
              "          [0, 0, 0, ..., 0, 0, 0],\n",
              "          [0, 0, 0, ..., 0, 0, 0],\n",
              "          [0, 0, 0, ..., 0, 0, 0]],\n",
              "  \n",
              "         [[0, 0, 0, ..., 0, 0, 0],\n",
              "          [0, 0, 0, ..., 0, 0, 0],\n",
              "          [0, 0, 0, ..., 0, 0, 0],\n",
              "          ...,\n",
              "          [0, 0, 0, ..., 0, 0, 0],\n",
              "          [0, 0, 0, ..., 0, 0, 0],\n",
              "          [0, 0, 0, ..., 0, 0, 0]],\n",
              "  \n",
              "         [[0, 0, 0, ..., 0, 0, 0],\n",
              "          [0, 0, 0, ..., 0, 0, 0],\n",
              "          [0, 0, 0, ..., 0, 0, 0],\n",
              "          ...,\n",
              "          [0, 0, 0, ..., 0, 0, 0],\n",
              "          [0, 0, 0, ..., 0, 0, 0],\n",
              "          [0, 0, 0, ..., 0, 0, 0]],\n",
              "  \n",
              "         ...,\n",
              "  \n",
              "         [[0, 0, 0, ..., 0, 0, 0],\n",
              "          [0, 0, 0, ..., 0, 0, 0],\n",
              "          [0, 0, 0, ..., 0, 0, 0],\n",
              "          ...,\n",
              "          [0, 0, 0, ..., 0, 0, 0],\n",
              "          [0, 0, 0, ..., 0, 0, 0],\n",
              "          [0, 0, 0, ..., 0, 0, 0]],\n",
              "  \n",
              "         [[0, 0, 0, ..., 0, 0, 0],\n",
              "          [0, 0, 0, ..., 0, 0, 0],\n",
              "          [0, 0, 0, ..., 0, 0, 0],\n",
              "          ...,\n",
              "          [0, 0, 0, ..., 0, 0, 0],\n",
              "          [0, 0, 0, ..., 0, 0, 0],\n",
              "          [0, 0, 0, ..., 0, 0, 0]],\n",
              "  \n",
              "         [[0, 0, 0, ..., 0, 0, 0],\n",
              "          [0, 0, 0, ..., 0, 0, 0],\n",
              "          [0, 0, 0, ..., 0, 0, 0],\n",
              "          ...,\n",
              "          [0, 0, 0, ..., 0, 0, 0],\n",
              "          [0, 0, 0, ..., 0, 0, 0],\n",
              "          [0, 0, 0, ..., 0, 0, 0]]], dtype=uint8),\n",
              "  array([7, 2, 1, ..., 4, 5, 6], dtype=uint8)))"
            ]
          },
          "metadata": {},
          "execution_count": 2
        }
      ]
    },
    {
      "cell_type": "code",
      "source": [
        "(x_train, y_train), (x_test, y_test) = keras.datasets.mnist.load_data()\n",
        "assert x_train.shape == (60000, 28, 28)\n",
        "assert x_test.shape == (10000, 28, 28)\n",
        "assert y_train.shape == (60000,)\n",
        "assert y_test.shape == (10000,)"
      ],
      "metadata": {
        "id": "ycJlXigO7j_X"
      },
      "execution_count": 3,
      "outputs": []
    },
    {
      "cell_type": "code",
      "source": [
        "plt.figure()\n",
        "plt.imshow(x_train[0], cmap='gray')\n",
        "plt.title('Digit is ' + str(y_train[0]))\n",
        "plt.axis('off')\n",
        "plt.show()"
      ],
      "metadata": {
        "colab": {
          "base_uri": "https://localhost:8080/",
          "height": 428
        },
        "id": "S2uUJ9UW7twX",
        "outputId": "d23077b9-dab2-4ba5-dc6f-fe228d08d7f3"
      },
      "execution_count": 4,
      "outputs": [
        {
          "output_type": "display_data",
          "data": {
            "text/plain": [
              "<Figure size 640x480 with 1 Axes>"
            ],
            "image/png": "[encoded data removed]"
          },
          "metadata": {}
        }
      ]
    },
    {
      "cell_type": "code",
      "source": [
        "GSZ = 3\n",
        "\n",
        "fig, axs = plt.subplots(GSZ, GSZ)\n",
        "\n",
        "for i in range(GSZ):\n",
        "\n",
        "  for j in range(GSZ):\n",
        "\n",
        "    axs[i][j].imshow(x_train[i+GSZ*j], cmap='gray')\n",
        "    axs[i][j].set_title('Digit is ' + str(y_train[i+GSZ*j]))\n",
        "    axs[i][j].axis('off')\n",
        ""
      ],
      "metadata": {
        "colab": {
          "base_uri": "https://localhost:8080/",
          "height": 428
        },
        "id": "LORgWYL-7t24",
        "outputId": "469d504d-33d6-4d08-f0f2-3716d5e478c2"
      },
      "execution_count": 5,
      "outputs": [
        {
          "output_type": "display_data",
          "data": {
            "text/plain": [
              "<Figure size 640x480 with 9 Axes>"
            ],
            "image/png": "[encoded data removed]"
          },
          "metadata": {}
        }
      ]
    },
    {
      "cell_type": "markdown",
      "source": [
        "# Adjust Data"
      ],
      "metadata": {
        "id": "1pzvYMrXDP_T"
      }
    },
    {
      "cell_type": "code",
      "source": [
        "x_train = np.expand_dims(x_train, axis=-1)\n",
        "\n",
        "print(x_train.shape)"
      ],
      "metadata": {
        "colab": {
          "base_uri": "https://localhost:8080/"
        },
        "id": "CbjWv1VmDT2R",
        "outputId": "dc8868f7-29ee-4dd0-d017-5881f666e137"
      },
      "execution_count": 6,
      "outputs": [
        {
          "output_type": "stream",
          "name": "stdout",
          "text": [
            "(60000, 28, 28, 1)\n"
          ]
        }
      ]
    },
    {
      "cell_type": "code",
      "source": [
        "x_test = np.expand_dims(x_test, axis=-1)\n",
        "\n",
        "print(x_test.shape)"
      ],
      "metadata": {
        "colab": {
          "base_uri": "https://localhost:8080/"
        },
        "id": "eVGQ8raZ6t7y",
        "outputId": "7c5f41bc-2260-402e-f4a1-7eb32531b24e"
      },
      "execution_count": 7,
      "outputs": [
        {
          "output_type": "stream",
          "name": "stdout",
          "text": [
            "(10000, 28, 28, 1)\n"
          ]
        }
      ]
    },
    {
      "cell_type": "code",
      "source": [
        "y_train = keras.utils.to_categorical(y_train)\n",
        "\n",
        "print(y_train.shape)"
      ],
      "metadata": {
        "colab": {
          "base_uri": "https://localhost:8080/"
        },
        "id": "xmxsppmZD5MM",
        "outputId": "eb3e73e4-1c35-4846-bdd5-b40cc85c38ec"
      },
      "execution_count": 8,
      "outputs": [
        {
          "output_type": "stream",
          "name": "stdout",
          "text": [
            "(60000, 10)\n"
          ]
        }
      ]
    },
    {
      "cell_type": "code",
      "source": [
        "y_train[0]"
      ],
      "metadata": {
        "colab": {
          "base_uri": "https://localhost:8080/"
        },
        "id": "sBwXDu1E2HV8",
        "outputId": "add669b7-4f75-4d9d-edc8-bbaf13f3e5fe"
      },
      "execution_count": 29,
      "outputs": [
        {
          "output_type": "execute_result",
          "data": {
            "text/plain": [
              "array([0., 0., 0., 0., 0., 1., 0., 0., 0., 0.], dtype=float32)"
            ]
          },
          "metadata": {},
          "execution_count": 29
        }
      ]
    },
    {
      "cell_type": "code",
      "source": [
        "y_test = keras.utils.to_categorical(y_test)\n",
        "\n",
        "print(y_test.shape)"
      ],
      "metadata": {
        "colab": {
          "base_uri": "https://localhost:8080/"
        },
        "id": "mCvS4sJpD5U0",
        "outputId": "379b0b5d-8ef8-4fbe-eb46-f69eb4a6b1bb"
      },
      "execution_count": 9,
      "outputs": [
        {
          "output_type": "stream",
          "name": "stdout",
          "text": [
            "(10000, 10)\n"
          ]
        }
      ]
    },
    {
      "cell_type": "markdown",
      "source": [
        "# Network\n",
        "We will develop a simple netowork with 2 conv layers, 2 pooling layers, 1 flatten layer, 2 dense layers, and softmax layer."
      ],
      "metadata": {
        "id": "xOoHMqrZ5K58"
      }
    },
    {
      "cell_type": "code",
      "source": [],
      "metadata": {
        "id": "uz6PA_Cb43Wb"
      },
      "execution_count": 9,
      "outputs": []
    },
    {
      "cell_type": "code",
      "source": [
        "# creating layers\n",
        "\n",
        "# input\n",
        "\n",
        "inputs = keras.layers.Input((28, 28, 1))\n",
        "\n",
        "# 2 conv\n",
        "\n",
        "conv1 = keras.layers.Conv2D(32, 3, 1, activation='relu', padding='same')\n",
        "\n",
        "conv2 = keras.layers.Conv2D(64, 3, 1, activation='relu', padding='same')\n",
        "\n",
        "# 2 pool\n",
        "\n",
        "pool1 = keras.layers.MaxPool2D((2, 2))\n",
        "\n",
        "pool2 = keras.layers.MaxPool2D((2, 2))\n",
        "\n",
        "# flat\n",
        "\n",
        "gap = keras.layers.GlobalAveragePooling2D()\n",
        "\n",
        "# 2 dense\n",
        "\n",
        "dense1 = keras.layers.Dense(64, 'relu')\n",
        "\n",
        "dense2 = keras.layers.Dense(10)\n",
        "\n",
        "# 2 dropouts\n",
        "\n",
        "dropout1 = keras.layers.Dropout(0.5)\n",
        "\n",
        "dropout2 = keras.layers.Dropout(0.5)\n",
        "\n",
        "# output (softmax)\n",
        "\n",
        "act = keras.layers.Activation('softmax')"
      ],
      "metadata": {
        "id": "nyzpjWfp4nXA"
      },
      "execution_count": 10,
      "outputs": []
    },
    {
      "cell_type": "code",
      "source": [
        "# connecting layers\n",
        "\n",
        "x = conv1(inputs)\n",
        "\n",
        "x = pool1(x)\n",
        "\n",
        "x = conv2(x)\n",
        "\n",
        "x = pool2(x)\n",
        "\n",
        "x = gap(x)\n",
        "\n",
        "x = dense1(x)\n",
        "\n",
        "x = dropout1(x)\n",
        "\n",
        "x = dense2(x)\n",
        "\n",
        "x = dropout2(x)\n",
        "\n",
        "x = act(x)"
      ],
      "metadata": {
        "id": "A6wx0_54ARnT"
      },
      "execution_count": 11,
      "outputs": []
    },
    {
      "cell_type": "code",
      "source": [
        "# model creation\n",
        "\n",
        "model = keras.models.Model(inputs=inputs, outputs=x)"
      ],
      "metadata": {
        "id": "_bQaUJ0VBFe3"
      },
      "execution_count": 12,
      "outputs": []
    },
    {
      "cell_type": "code",
      "source": [
        "model.summary()"
      ],
      "metadata": {
        "colab": {
          "base_uri": "https://localhost:8080/"
        },
        "id": "PFQKKhxcBK-v",
        "outputId": "e3b7d067-d836-46a0-eeef-e0bb2ef97430"
      },
      "execution_count": 13,
      "outputs": [
        {
          "output_type": "stream",
          "name": "stdout",
          "text": [
            "Model: \"model\"\n",
            "_________________________________________________________________\n",
            " Layer (type)                Output Shape              Param #   \n",
            "=================================================================\n",
            " input_1 (InputLayer)        [(None, 28, 28, 1)]       0         \n",
            "                                                                 \n",
            " conv2d (Conv2D)             (None, 28, 28, 32)        320       \n",
            "                                                                 \n",
            " max_pooling2d (MaxPooling2D  (None, 14, 14, 32)       0         \n",
            " )                                                               \n",
            "                                                                 \n",
            " conv2d_1 (Conv2D)           (None, 14, 14, 64)        18496     \n",
            "                                                                 \n",
            " max_pooling2d_1 (MaxPooling  (None, 7, 7, 64)         0         \n",
            " 2D)                                                             \n",
            "                                                                 \n",
            " global_average_pooling2d (G  (None, 64)               0         \n",
            " lobalAveragePooling2D)                                          \n",
            "                                                                 \n",
            " dense (Dense)               (None, 64)                4160      \n",
            "                                                                 \n",
            " dropout (Dropout)           (None, 64)                0         \n",
            "                                                                 \n",
            " dense_1 (Dense)             (None, 10)                650       \n",
            "                                                                 \n",
            " dropout_1 (Dropout)         (None, 10)                0         \n",
            "                                                                 \n",
            " activation (Activation)     (None, 10)                0         \n",
            "                                                                 \n",
            "=================================================================\n",
            "Total params: 23,626\n",
            "Trainable params: 23,626\n",
            "Non-trainable params: 0\n",
            "_________________________________________________________________\n"
          ]
        }
      ]
    },
    {
      "cell_type": "code",
      "source": [
        "keras.utils.plot_model(model, to_file=\"model.png\", show_shapes=True, show_layer_names=False)"
      ],
      "metadata": {
        "colab": {
          "base_uri": "https://localhost:8080/",
          "height": 1000
        },
        "id": "nKgpnJziBL-H",
        "outputId": "825f7cbe-b503-4a91-8619-4bd345a3f340"
      },
      "execution_count": 14,
      "outputs": [
        {
          "output_type": "execute_result",
          "data": {
            "image/png": "[encoded data removed]",
            "text/plain": [
              "<IPython.core.display.Image object>"
            ]
          },
          "metadata": {},
          "execution_count": 14
        }
      ]
    },
    {
      "cell_type": "markdown",
      "source": [
        "# Training Settings"
      ],
      "metadata": {
        "id": "Z9CC-00iCdW9"
      }
    },
    {
      "cell_type": "code",
      "source": [
        "model.compile(optimizer=keras.optimizers.Adam(0.0001),\n",
        "              loss=keras.losses.CategoricalCrossentropy(),\n",
        "              metrics='acc')"
      ],
      "metadata": {
        "id": "AcWgRKyVBycB"
      },
      "execution_count": 15,
      "outputs": []
    },
    {
      "cell_type": "markdown",
      "source": [
        "# Start training"
      ],
      "metadata": {
        "id": "QkuNLT6ICzWO"
      }
    },
    {
      "cell_type": "code",
      "source": [
        "model.fit(x_train, y_train, batch_size=25, epochs=10, validation_data=[x_test, y_test], validation_batch_size=25)"
      ],
      "metadata": {
        "colab": {
          "base_uri": "https://localhost:8080/"
        },
        "id": "CJ_gtEP6Cxel",
        "outputId": "eb7a4aaa-776e-4e9f-eb3f-ea493142d202"
      },
      "execution_count": 16,
      "outputs": [
        {
          "output_type": "stream",
          "name": "stdout",
          "text": [
            "Epoch 1/10\n",
            "2400/2400 [==============================] - 103s 41ms/step - loss: 2.3162 - acc: 0.2253 - val_loss: 1.7086 - val_acc: 0.6046\n",
            "Epoch 2/10\n",
            "2400/2400 [==============================] - 96s 40ms/step - loss: 1.8376 - acc: 0.3400 - val_loss: 1.2862 - val_acc: 0.7948\n",
            "Epoch 3/10\n",
            "2400/2400 [==============================] - 99s 41ms/step - loss: 1.6386 - acc: 0.4043 - val_loss: 0.9568 - val_acc: 0.8580\n",
            "Epoch 4/10\n",
            "2400/2400 [==============================] - 95s 40ms/step - loss: 1.5295 - acc: 0.4371 - val_loss: 0.8067 - val_acc: 0.8978\n",
            "Epoch 5/10\n",
            "2400/2400 [==============================] - 96s 40ms/step - loss: 1.4442 - acc: 0.4599 - val_loss: 0.6712 - val_acc: 0.9195\n",
            "Epoch 6/10\n",
            "2400/2400 [==============================] - 94s 39ms/step - loss: 1.3978 - acc: 0.4743 - val_loss: 0.5179 - val_acc: 0.9309\n",
            "Epoch 7/10\n",
            "2400/2400 [==============================] - 98s 41ms/step - loss: 1.3462 - acc: 0.4881 - val_loss: 0.4836 - val_acc: 0.9284\n",
            "Epoch 8/10\n",
            "2400/2400 [==============================] - 92s 38ms/step - loss: 1.3058 - acc: 0.4993 - val_loss: 0.4246 - val_acc: 0.9332\n",
            "Epoch 9/10\n",
            "2400/2400 [==============================] - 92s 38ms/step - loss: 1.2788 - acc: 0.5073 - val_loss: 0.3776 - val_acc: 0.9422\n",
            "Epoch 10/10\n",
            "2400/2400 [==============================] - 93s 39ms/step - loss: 1.2523 - acc: 0.5139 - val_loss: 0.3036 - val_acc: 0.9465\n"
          ]
        },
        {
          "output_type": "execute_result",
          "data": {
            "text/plain": [
              "<keras.callbacks.History at 0x7fada3f17220>"
            ]
          },
          "metadata": {},
          "execution_count": 16
        }
      ]
    },
    {
      "cell_type": "code",
      "source": [
        "img = x_test[0]\n",
        "\n",
        "print(img.shape)\n",
        "\n",
        "label = y_test[0]\n",
        "\n",
        "print(label)"
      ],
      "metadata": {
        "colab": {
          "base_uri": "https://localhost:8080/"
        },
        "id": "8H7nhXRwDIVf",
        "outputId": "fe2bb9bb-34c5-4e97-d008-adc11014fd2c"
      },
      "execution_count": 20,
      "outputs": [
        {
          "output_type": "stream",
          "name": "stdout",
          "text": [
            "(28, 28, 1)\n",
            "[0. 0. 0. 0. 0. 0. 0. 1. 0. 0.]\n"
          ]
        }
      ]
    },
    {
      "cell_type": "code",
      "source": [
        "digit = np.argmax(label)\n",
        "\n",
        "print(digit)"
      ],
      "metadata": {
        "colab": {
          "base_uri": "https://localhost:8080/"
        },
        "id": "Q74TmlEhkc5A",
        "outputId": "f4200f81-ecae-42d9-aa11-c2f05672c6c8"
      },
      "execution_count": 22,
      "outputs": [
        {
          "output_type": "stream",
          "name": "stdout",
          "text": [
            "7\n"
          ]
        }
      ]
    },
    {
      "cell_type": "code",
      "source": [
        "plt.figure()\n",
        "plt.imshow(img, cmap='gray')\n",
        "plt.axis('off')"
      ],
      "metadata": {
        "colab": {
          "base_uri": "https://localhost:8080/",
          "height": 423
        },
        "id": "NuqLh6lKk2ux",
        "outputId": "8763c323-0aba-4ad1-a814-08009188c8c4"
      },
      "execution_count": 23,
      "outputs": [
        {
          "output_type": "execute_result",
          "data": {
            "text/plain": [
              "(-0.5, 27.5, 27.5, -0.5)"
            ]
          },
          "metadata": {},
          "execution_count": 23
        },
        {
          "output_type": "display_data",
          "data": {
            "text/plain": [
              "<Figure size 640x480 with 1 Axes>"
            ],
            "image/png": "[encoded data removed]"
          },
          "metadata": {}
        }
      ]
    },
    {
      "cell_type": "code",
      "source": [
        "\n",
        "pred = model.predict(np.expand_dims(img, axis=0))\n"
      ],
      "metadata": {
        "colab": {
          "base_uri": "https://localhost:8080/"
        },
        "id": "1vw09Ajmk_rC",
        "outputId": "79844e22-1e38-42db-b494-a9c48f35e0cd"
      },
      "execution_count": 26,
      "outputs": [
        {
          "output_type": "stream",
          "name": "stdout",
          "text": [
            "1/1 [==============================] - 0s 46ms/step\n"
          ]
        }
      ]
    },
    {
      "cell_type": "code",
      "source": [
        "print(np.round(pred, 2))\n",
        "\n",
        "print(np.sum(pred))"
      ],
      "metadata": {
        "colab": {
          "base_uri": "https://localhost:8080/"
        },
        "id": "RstDecUl5GW6",
        "outputId": "644656b4-a524-4671-9aac-a6e2d395e154"
      },
      "execution_count": 32,
      "outputs": [
        {
          "output_type": "stream",
          "name": "stdout",
          "text": [
            "[[0.   0.01 0.   0.   0.   0.   0.   0.98 0.   0.  ]]\n",
            "1.0\n"
          ]
        }
      ]
    },
    {
      "cell_type": "code",
      "source": [
        "predicted_digit = np.argmax(pred)\n",
        "\n",
        "print(predicted_digit)"
      ],
      "metadata": {
        "colab": {
          "base_uri": "https://localhost:8080/"
        },
        "id": "hjIm24zolNFj",
        "outputId": "40d634c2-8650-4c97-9666-2aa6da40ba20"
      },
      "execution_count": 28,
      "outputs": [
        {
          "output_type": "stream",
          "name": "stdout",
          "text": [
            "7\n"
          ]
        }
      ]
    },
    {
      "cell_type": "code",
      "source": [],
      "metadata": {
        "id": "VnutkbiYljNE"
      },
      "execution_count": 28,
      "outputs": []
    }
  ]
}